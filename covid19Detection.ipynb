{
  "nbformat": 4,
  "nbformat_minor": 0,
  "metadata": {
    "colab": {
      "name": "covid19Detection.ipynb",
      "provenance": []
    },
    "kernelspec": {
      "name": "python3",
      "display_name": "Python 3"
    },
    "language_info": {
      "name": "python"
    }
  },
  "cells": [
    {
      "cell_type": "code",
      "execution_count": 1,
      "metadata": {
        "colab": {
          "base_uri": "https://localhost:8080/"
        },
        "id": "oWAV72pmk5yM",
        "outputId": "c3cc34c2-de0c-4aba-a02e-c96467ab489c"
      },
      "outputs": [
        {
          "output_type": "stream",
          "name": "stdout",
          "text": [
            "Mounted at drive\n"
          ]
        }
      ],
      "source": [
        "from google.colab import drive\n",
        "drive.mount('drive')"
      ]
    },
    {
      "cell_type": "code",
      "source": [
        "from tensorflow.keras.layers import Input, Lambda, Dense, Flatten,Dropout,Conv2D,MaxPooling2D,BatchNormalization\n",
        "from tensorflow.keras.models import Model\n",
        "from tensorflow.keras.preprocessing import image\n",
        "from sklearn.metrics import accuracy_score,classification_report,confusion_matrix\n",
        "from tensorflow.keras.preprocessing.image import ImageDataGenerator\n",
        "from sklearn.model_selection import train_test_split\n",
        "from tensorflow.keras.models import Sequential\n",
        "import numpy as np\n",
        "import pandas as pd\n",
        "import os\n",
        "import cv2\n",
        "import matplotlib.pyplot as plt"
      ],
      "metadata": {
        "id": "UNgh5SRIlJnD"
      },
      "execution_count": 1,
      "outputs": []
    },
    {
      "cell_type": "code",
      "source": [
        "IMAGE_SIZE = (100,100)"
      ],
      "metadata": {
        "id": "GD-FtySnlYOc"
      },
      "execution_count": 2,
      "outputs": []
    },
    {
      "cell_type": "code",
      "source": [
        "from google.colab.patches import cv2_imshow\n",
        "a=cv2.imread(\"/content/drive/MyDrive/New_Data_CoV2/Covid/Patient/10.png\")\n",
        "a=cv2.resize(a,IMAGE_SIZE)\n",
        "cv2_imshow(a)\n",
        "print(a.shape)"
      ],
      "metadata": {
        "colab": {
          "base_uri": "https://localhost:8080/",
          "height": 134
        },
        "id": "HoaxaSz6lcfh",
        "outputId": "55b60086-615b-4f3b-89af-7548afde29c2"
      },
      "execution_count": 3,
      "outputs": [
        {
          "output_type": "display_data",
          "data": {
            "text/plain": [
              "<PIL.Image.Image image mode=RGB size=100x100 at 0x7FDE40FA2A90>"
            ],
            "image/png": "[encoded data removed]"
          },
          "metadata": {}
        },
        {
          "output_type": "stream",
          "name": "stdout",
          "text": [
            "(100, 100, 3)\n"
          ]
        }
      ]
    },
    {
      "cell_type": "code",
      "source": [
        "path=\"/content/drive/MyDrive/New_Data_CoV2\""
      ],
      "metadata": {
        "id": "NKO7_0wRnY_c"
      },
      "execution_count": 4,
      "outputs": []
    },
    {
      "cell_type": "code",
      "source": [
        "data=[]\n",
        "c=0\n",
        "\n",
        "for folder in os.listdir(path):\n",
        "    sub_path=path+\"/\"+folder\n",
        "    for folder2 in os.listdir(sub_path):\n",
        "      sub_path2=sub_path+\"/\"+folder2\n",
        "      for img in os.listdir(sub_path2):\n",
        "        image_path=sub_path2+\"/\"+img        \n",
        "        img_arr=cv2.imread(image_path)\n",
        "        try:\n",
        "          img_arr=cv2.resize(img_arr,IMAGE_SIZE)\n",
        "          data.append(img_arr)\n",
        "        except:\n",
        "          c+=1\n",
        "          continue\n",
        "        \n",
        "\n",
        "print(\"Number of images skipped= \",c)"
      ],
      "metadata": {
        "colab": {
          "base_uri": "https://localhost:8080/"
        },
        "id": "-yQNlRD7ncq4",
        "outputId": "91788830-577f-4486-b478-a4bda51ff4a4"
      },
      "execution_count": 5,
      "outputs": [
        {
          "output_type": "stream",
          "name": "stdout",
          "text": [
            "Number of images skipped=  2\n"
          ]
        }
      ]
    },
    {
      "cell_type": "code",
      "source": [
        "x=np.array(data)"
      ],
      "metadata": {
        "id": "Y3ubpya6nkRN"
      },
      "execution_count": 7,
      "outputs": []
    },
    {
      "cell_type": "code",
      "source": [
        "x.shape"
      ],
      "metadata": {
        "colab": {
          "base_uri": "https://localhost:8080/"
        },
        "id": "7gx5OYEUnmcm",
        "outputId": "376db801-a539-4b63-c69e-16ce67a69b72"
      },
      "execution_count": 8,
      "outputs": [
        {
          "output_type": "execute_result",
          "data": {
            "text/plain": [
              "(4181, 100, 100, 3)"
            ]
          },
          "metadata": {},
          "execution_count": 8
        }
      ]
    },
    {
      "cell_type": "code",
      "source": [
        "x=x/255.0"
      ],
      "metadata": {
        "id": "hB-eJiTlnpzM"
      },
      "execution_count": 9,
      "outputs": []
    },
    {
      "cell_type": "code",
      "source": [
        "datagen = ImageDataGenerator(rescale = 1./255)\n",
        "dataset = datagen.flow_from_directory(path,\n",
        "                                      target_size = IMAGE_SIZE,\n",
        "                                      batch_size = 32,\n",
        "                                      class_mode = 'sparse')"
      ],
      "metadata": {
        "colab": {
          "base_uri": "https://localhost:8080/"
        },
        "id": "pqA2aLaQnsy_",
        "outputId": "f0b86c91-6cfe-4b99-807a-4f830beab85b"
      },
      "execution_count": 10,
      "outputs": [
        {
          "output_type": "stream",
          "name": "stdout",
          "text": [
            "Found 4181 images belonging to 3 classes.\n"
          ]
        }
      ]
    },
    {
      "cell_type": "code",
      "source": [
        "dataset.class_indices"
      ],
      "metadata": {
        "colab": {
          "base_uri": "https://localhost:8080/"
        },
        "id": "hOs8k1Ganu0O",
        "outputId": "856b7a46-8396-42d9-a800-7012505fa93b"
      },
      "execution_count": 11,
      "outputs": [
        {
          "output_type": "execute_result",
          "data": {
            "text/plain": [
              "{'Covid': 0, 'Healthy': 1, 'Others': 2}"
            ]
          },
          "metadata": {},
          "execution_count": 11
        }
      ]
    },
    {
      "cell_type": "code",
      "source": [
        "y=dataset.classes"
      ],
      "metadata": {
        "id": "qi4rI6FvnxOA"
      },
      "execution_count": 12,
      "outputs": []
    },
    {
      "cell_type": "code",
      "source": [
        "y.shape"
      ],
      "metadata": {
        "colab": {
          "base_uri": "https://localhost:8080/"
        },
        "id": "eZCIoK4Rny9K",
        "outputId": "efe8bf89-a305-49ea-afa6-08e4902b861b"
      },
      "execution_count": 13,
      "outputs": [
        {
          "output_type": "execute_result",
          "data": {
            "text/plain": [
              "(4181,)"
            ]
          },
          "metadata": {},
          "execution_count": 13
        }
      ]
    },
    {
      "cell_type": "code",
      "source": [
        "x_train,x_test,y_train,y_test=train_test_split(x,y,test_size=0.1)\n",
        "x_train,x_val,y_train,y_val=train_test_split(x_train,y_train,test_size=0.2)"
      ],
      "metadata": {
        "id": "WRS_GmB4n14r"
      },
      "execution_count": 14,
      "outputs": []
    },
    {
      "cell_type": "code",
      "source": [
        "x_train.shape,y_train.shape"
      ],
      "metadata": {
        "colab": {
          "base_uri": "https://localhost:8080/"
        },
        "id": "Q_Xt6zp9n389",
        "outputId": "d63f3aeb-ddc8-4824-d7e1-56a4df9ce0b1"
      },
      "execution_count": 15,
      "outputs": [
        {
          "output_type": "execute_result",
          "data": {
            "text/plain": [
              "((3009, 100, 100, 3), (3009,))"
            ]
          },
          "metadata": {},
          "execution_count": 15
        }
      ]
    },
    {
      "cell_type": "code",
      "source": [
        "x_val.shape,y_val.shape"
      ],
      "metadata": {
        "colab": {
          "base_uri": "https://localhost:8080/"
        },
        "id": "KZFf3ygIn6gC",
        "outputId": "e5569098-cf63-4cb0-c67e-6644bcdc7e78"
      },
      "execution_count": 16,
      "outputs": [
        {
          "output_type": "execute_result",
          "data": {
            "text/plain": [
              "((753, 100, 100, 3), (753,))"
            ]
          },
          "metadata": {},
          "execution_count": 16
        }
      ]
    },
    {
      "cell_type": "code",
      "source": [
        "x_test.shape,y_test.shape"
      ],
      "metadata": {
        "colab": {
          "base_uri": "https://localhost:8080/"
        },
        "id": "3lwb-q4vn8Qc",
        "outputId": "8f3b799f-47df-4ec8-8ec8-fa02d6313c89"
      },
      "execution_count": 17,
      "outputs": [
        {
          "output_type": "execute_result",
          "data": {
            "text/plain": [
              "((419, 100, 100, 3), (419,))"
            ]
          },
          "metadata": {},
          "execution_count": 17
        }
      ]
    },
    {
      "cell_type": "code",
      "source": [
        "model=Sequential()\n",
        "\n",
        "#covolution layer\n",
        "model.add(Conv2D(32,(3,3),activation='relu',input_shape=(100,100,3)))\n",
        "#pooling layer\n",
        "model.add(MaxPooling2D(2,2))\n",
        "model.add(BatchNormalization())\n",
        "\n",
        "\n",
        "#covolution layer\n",
        "model.add(Conv2D(32,(3,3),activation='relu'))\n",
        "#pooling layer\n",
        "model.add(MaxPooling2D(2,2))\n",
        "model.add(BatchNormalization())\n",
        "\n",
        "#covolution layer\n",
        "model.add(Conv2D(64,(3,3),activation='relu'))\n",
        "#pooling layer\n",
        "model.add(MaxPooling2D(2,2))\n",
        "model.add(BatchNormalization())\n",
        "\n",
        "#covolution layer\n",
        "model.add(Conv2D(64,(3,3),activation='relu'))\n",
        "#pooling layer\n",
        "model.add(MaxPooling2D(2,2))\n",
        "model.add(BatchNormalization())\n",
        "\n",
        "#i/p layer\n",
        "model.add(Flatten())\n",
        "\n",
        "\n",
        "#o/p layer\n",
        "model.add(Dense(3,activation='softmax'))\n",
        "\n",
        "\n",
        "model.summary()"
      ],
      "metadata": {
        "colab": {
          "base_uri": "https://localhost:8080/"
        },
        "id": "k1JRXSSdn_r5",
        "outputId": "84de8f9f-0918-428c-e895-e1960429c6cc"
      },
      "execution_count": 18,
      "outputs": [
        {
          "output_type": "stream",
          "name": "stdout",
          "text": [
            "Model: \"sequential\"\n",
            "_________________________________________________________________\n",
            " Layer (type)                Output Shape              Param #   \n",
            "=================================================================\n",
            " conv2d (Conv2D)             (None, 98, 98, 32)        896       \n",
            "                                                                 \n",
            " max_pooling2d (MaxPooling2D  (None, 49, 49, 32)       0         \n",
            " )                                                               \n",
            "                                                                 \n",
            " batch_normalization (BatchN  (None, 49, 49, 32)       128       \n",
            " ormalization)                                                   \n",
            "                                                                 \n",
            " conv2d_1 (Conv2D)           (None, 47, 47, 32)        9248      \n",
            "                                                                 \n",
            " max_pooling2d_1 (MaxPooling  (None, 23, 23, 32)       0         \n",
            " 2D)                                                             \n",
            "                                                                 \n",
            " batch_normalization_1 (Batc  (None, 23, 23, 32)       128       \n",
            " hNormalization)                                                 \n",
            "                                                                 \n",
            " conv2d_2 (Conv2D)           (None, 21, 21, 64)        18496     \n",
            "                                                                 \n",
            " max_pooling2d_2 (MaxPooling  (None, 10, 10, 64)       0         \n",
            " 2D)                                                             \n",
            "                                                                 \n",
            " batch_normalization_2 (Batc  (None, 10, 10, 64)       256       \n",
            " hNormalization)                                                 \n",
            "                                                                 \n",
            " conv2d_3 (Conv2D)           (None, 8, 8, 64)          36928     \n",
            "                                                                 \n",
            " max_pooling2d_3 (MaxPooling  (None, 4, 4, 64)         0         \n",
            " 2D)                                                             \n",
            "                                                                 \n",
            " batch_normalization_3 (Batc  (None, 4, 4, 64)         256       \n",
            " hNormalization)                                                 \n",
            "                                                                 \n",
            " flatten (Flatten)           (None, 1024)              0         \n",
            "                                                                 \n",
            " dense (Dense)               (None, 3)                 3075      \n",
            "                                                                 \n",
            "=================================================================\n",
            "Total params: 69,411\n",
            "Trainable params: 69,027\n",
            "Non-trainable params: 384\n",
            "_________________________________________________________________\n"
          ]
        }
      ]
    },
    {
      "cell_type": "code",
      "source": [
        "model.compile(optimizer='adam',loss='sparse_categorical_crossentropy',metrics=['accuracy'])"
      ],
      "metadata": {
        "id": "2IhinnZwoCE1"
      },
      "execution_count": 19,
      "outputs": []
    },
    {
      "cell_type": "code",
      "source": [
        "from tensorflow.keras.callbacks import EarlyStopping\n",
        "early_stop=EarlyStopping(monitor='val_loss',mode='min',verbose=1,patience=5)\n"
      ],
      "metadata": {
        "id": "yrOSy6f8oE1u"
      },
      "execution_count": 20,
      "outputs": []
    },
    {
      "cell_type": "code",
      "source": [
        "history=model.fit(x_train,y_train,validation_data=(x_val,y_val),epochs=30,callbacks=[early_stop],shuffle=True)"
      ],
      "metadata": {
        "colab": {
          "base_uri": "https://localhost:8080/"
        },
        "id": "Eh8HN8cKoG0Y",
        "outputId": "00aeedad-9386-4ab7-84e1-5cb14484fa40"
      },
      "execution_count": 21,
      "outputs": [
        {
          "output_type": "stream",
          "name": "stdout",
          "text": [
            "Epoch 1/30\n",
            "95/95 [==============================] - 44s 440ms/step - loss: 0.9490 - accuracy: 0.5992 - val_loss: 1.2887 - val_accuracy: 0.1952\n",
            "Epoch 2/30\n",
            "95/95 [==============================] - 42s 439ms/step - loss: 0.6623 - accuracy: 0.7228 - val_loss: 1.0943 - val_accuracy: 0.3174\n",
            "Epoch 3/30\n",
            "95/95 [==============================] - 42s 446ms/step - loss: 0.5685 - accuracy: 0.7790 - val_loss: 1.0009 - val_accuracy: 0.5405\n",
            "Epoch 4/30\n",
            "95/95 [==============================] - 41s 434ms/step - loss: 0.6132 - accuracy: 0.7504 - val_loss: 1.0550 - val_accuracy: 0.4502\n",
            "Epoch 5/30\n",
            "95/95 [==============================] - 41s 431ms/step - loss: 0.4463 - accuracy: 0.8365 - val_loss: 0.8007 - val_accuracy: 0.6348\n",
            "Epoch 6/30\n",
            "95/95 [==============================] - 41s 430ms/step - loss: 0.5232 - accuracy: 0.7900 - val_loss: 0.6673 - val_accuracy: 0.7278\n",
            "Epoch 7/30\n",
            "95/95 [==============================] - 41s 432ms/step - loss: 0.3495 - accuracy: 0.8674 - val_loss: 0.8886 - val_accuracy: 0.6282\n",
            "Epoch 8/30\n",
            "95/95 [==============================] - 41s 435ms/step - loss: 0.3840 - accuracy: 0.8521 - val_loss: 0.7133 - val_accuracy: 0.7264\n",
            "Epoch 9/30\n",
            "95/95 [==============================] - 41s 434ms/step - loss: 0.1995 - accuracy: 0.9442 - val_loss: 0.6219 - val_accuracy: 0.7570\n",
            "Epoch 10/30\n",
            "95/95 [==============================] - 41s 434ms/step - loss: 0.1810 - accuracy: 0.9482 - val_loss: 0.6497 - val_accuracy: 0.7583\n",
            "Epoch 11/30\n",
            "95/95 [==============================] - 41s 431ms/step - loss: 0.0800 - accuracy: 0.9874 - val_loss: 0.5878 - val_accuracy: 0.7795\n",
            "Epoch 12/30\n",
            "95/95 [==============================] - 41s 432ms/step - loss: 0.0458 - accuracy: 0.9977 - val_loss: 0.5852 - val_accuracy: 0.7902\n",
            "Epoch 13/30\n",
            "95/95 [==============================] - 41s 429ms/step - loss: 0.0286 - accuracy: 0.9993 - val_loss: 0.5553 - val_accuracy: 0.7928\n",
            "Epoch 14/30\n",
            "95/95 [==============================] - 41s 433ms/step - loss: 0.0173 - accuracy: 1.0000 - val_loss: 0.5956 - val_accuracy: 0.7835\n",
            "Epoch 15/30\n",
            "95/95 [==============================] - 41s 435ms/step - loss: 0.0115 - accuracy: 1.0000 - val_loss: 0.5879 - val_accuracy: 0.7928\n",
            "Epoch 16/30\n",
            "95/95 [==============================] - 41s 432ms/step - loss: 0.0083 - accuracy: 1.0000 - val_loss: 0.6141 - val_accuracy: 0.7902\n",
            "Epoch 17/30\n",
            "95/95 [==============================] - 41s 432ms/step - loss: 0.0065 - accuracy: 1.0000 - val_loss: 0.6380 - val_accuracy: 0.7902\n",
            "Epoch 18/30\n",
            "95/95 [==============================] - 41s 430ms/step - loss: 0.0055 - accuracy: 1.0000 - val_loss: 0.6348 - val_accuracy: 0.7888\n",
            "Epoch 18: early stopping\n"
          ]
        }
      ]
    },
    {
      "cell_type": "code",
      "source": [
        "plt.plot(history.history['loss'],label='train loss')\n",
        "plt.plot(history.history['val_loss'],label='val loss')\n",
        "plt.legend()\n",
        "\n",
        "plt.savefig('loss-graph.png')\n",
        "plt.show()"
      ],
      "metadata": {
        "colab": {
          "base_uri": "https://localhost:8080/",
          "height": 265
        },
        "id": "ihA4EozhoIrJ",
        "outputId": "7c8eaabd-778b-4eeb-fbea-46581d41d51a"
      },
      "execution_count": 22,
      "outputs": [
        {
          "output_type": "display_data",
          "data": {
            "text/plain": [
              "<Figure size 432x288 with 1 Axes>"
            ],
            "image/png": "[encoded data removed]"
          },
          "metadata": {
            "needs_background": "light"
          }
        }
      ]
    },
    {
      "cell_type": "code",
      "source": [
        "plt.plot(history.history['accuracy'], label='train acc')\n",
        "plt.plot(history.history['val_accuracy'], label='val acc')\n",
        "plt.legend()\n",
        "\n",
        "plt.savefig('acc-graph.png')\n",
        "plt.show()"
      ],
      "metadata": {
        "colab": {
          "base_uri": "https://localhost:8080/",
          "height": 265
        },
        "id": "ca9MrFfdoLAh",
        "outputId": "d15a923d-fb48-4b87-847e-7c79d3d9835a"
      },
      "execution_count": 23,
      "outputs": [
        {
          "output_type": "display_data",
          "data": {
            "text/plain": [
              "<Figure size 432x288 with 1 Axes>"
            ],
            "image/png": "[encoded data removed]"
          },
          "metadata": {
            "needs_background": "light"
          }
        }
      ]
    },
    {
      "cell_type": "code",
      "source": [
        "y_val_pred=model.predict(x_val)\n",
        "y_val_pred=np.argmax(y_val_pred,axis=1)\n",
        "print(classification_report(y_val_pred,y_val))"
      ],
      "metadata": {
        "colab": {
          "base_uri": "https://localhost:8080/"
        },
        "id": "7b1ilvzroM3g",
        "outputId": "35100689-96d7-4481-9f8a-a9adddd8242b"
      },
      "execution_count": 24,
      "outputs": [
        {
          "output_type": "stream",
          "name": "stdout",
          "text": [
            "              precision    recall  f1-score   support\n",
            "\n",
            "           0       0.90      0.87      0.88       405\n",
            "           1       0.54      0.62      0.58       116\n",
            "           2       0.75      0.74      0.74       232\n",
            "\n",
            "    accuracy                           0.79       753\n",
            "   macro avg       0.73      0.74      0.73       753\n",
            "weighted avg       0.80      0.79      0.79       753\n",
            "\n"
          ]
        }
      ]
    },
    {
      "cell_type": "code",
      "source": [
        "confusion_matrix(y_val_pred,y_val)"
      ],
      "metadata": {
        "colab": {
          "base_uri": "https://localhost:8080/"
        },
        "id": "9k-ez_OooPLu",
        "outputId": "63635a27-20c6-4131-c64d-d909a55d0cf5"
      },
      "execution_count": 25,
      "outputs": [
        {
          "output_type": "execute_result",
          "data": {
            "text/plain": [
              "array([[351,  23,  31],\n",
              "       [ 18,  72,  26],\n",
              "       [ 22,  39, 171]])"
            ]
          },
          "metadata": {},
          "execution_count": 25
        }
      ]
    },
    {
      "cell_type": "code",
      "source": [
        "y_pred=model.predict(x_test)\n",
        "y_pred=np.argmax(y_pred,axis=1)"
      ],
      "metadata": {
        "id": "sFHoG1x8oTzV"
      },
      "execution_count": 26,
      "outputs": []
    },
    {
      "cell_type": "code",
      "source": [
        "accuracy_score(y_pred,y_test)"
      ],
      "metadata": {
        "colab": {
          "base_uri": "https://localhost:8080/"
        },
        "id": "NBHZ_r4xoVls",
        "outputId": "558329b0-d326-4a66-8329-1bfed3649d60"
      },
      "execution_count": 27,
      "outputs": [
        {
          "output_type": "execute_result",
          "data": {
            "text/plain": [
              "0.7899761336515513"
            ]
          },
          "metadata": {},
          "execution_count": 27
        }
      ]
    },
    {
      "cell_type": "code",
      "source": [
        "print(classification_report(y_pred,y_test))"
      ],
      "metadata": {
        "colab": {
          "base_uri": "https://localhost:8080/"
        },
        "id": "-ZL9acTeoXPI",
        "outputId": "da8d8064-3a8e-467c-94eb-44d793de5db2"
      },
      "execution_count": 28,
      "outputs": [
        {
          "output_type": "stream",
          "name": "stdout",
          "text": [
            "              precision    recall  f1-score   support\n",
            "\n",
            "           0       0.90      0.85      0.88       219\n",
            "           1       0.51      0.72      0.60        60\n",
            "           2       0.79      0.73      0.76       140\n",
            "\n",
            "    accuracy                           0.79       419\n",
            "   macro avg       0.74      0.76      0.74       419\n",
            "weighted avg       0.81      0.79      0.80       419\n",
            "\n"
          ]
        }
      ]
    },
    {
      "cell_type": "code",
      "source": [
        "confusion_matrix(y_pred,y_test)"
      ],
      "metadata": {
        "colab": {
          "base_uri": "https://localhost:8080/"
        },
        "id": "uil9ipCeoaB-",
        "outputId": "70d7039a-8781-4002-9d14-11a63538cfe2"
      },
      "execution_count": 29,
      "outputs": [
        {
          "output_type": "execute_result",
          "data": {
            "text/plain": [
              "array([[186,  18,  15],\n",
              "       [  5,  43,  12],\n",
              "       [ 15,  23, 102]])"
            ]
          },
          "metadata": {},
          "execution_count": 29
        }
      ]
    },
    {
      "cell_type": "code",
      "source": [
        "model.save('/content/drive/MyDrive/covid19model.h5')"
      ],
      "metadata": {
        "id": "9H3ierd3ob7Z"
      },
      "execution_count": 31,
      "outputs": []
    }
  ]
}